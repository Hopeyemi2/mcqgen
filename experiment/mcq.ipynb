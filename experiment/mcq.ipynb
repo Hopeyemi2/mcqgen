{
 "cells": [
  {
   "cell_type": "code",
   "execution_count": 158,
   "id": "b9fa6ded",
   "metadata": {},
   "outputs": [],
   "source": [
    "import os\n",
    "import json\n",
    "import pandas as pd\n",
    "import traceback\n",
    "from langchain.llms import OpenAI"
   ]
  },
  {
   "cell_type": "code",
   "execution_count": 159,
   "id": "a143fda2",
   "metadata": {},
   "outputs": [],
   "source": [
    "from langchain.chat_models import ChatOpenAI"
   ]
  },
  {
   "cell_type": "code",
   "execution_count": 160,
   "id": "42d16414",
   "metadata": {},
   "outputs": [
    {
     "data": {
      "text/plain": [
       "True"
      ]
     },
     "execution_count": 160,
     "metadata": {},
     "output_type": "execute_result"
    }
   ],
   "source": [
    "from dotenv import load_dotenv\n",
    "\n",
    "load_dotenv()"
   ]
  },
  {
   "cell_type": "code",
   "execution_count": 161,
   "id": "341c11b0",
   "metadata": {},
   "outputs": [],
   "source": [
    "KEY=os.getenv(\"OPENAI_API_KEY\")"
   ]
  },
  {
   "cell_type": "code",
   "execution_count": 162,
   "id": "07b26743",
   "metadata": {},
   "outputs": [],
   "source": [
    "llm = ChatOpenAI(openai_api_key=KEY, model=\"gpt-5\", temperature=1)"
   ]
  },
  {
   "cell_type": "code",
   "execution_count": 163,
   "id": "fef8f621",
   "metadata": {},
   "outputs": [],
   "source": [
    "from langchain import OpenAI\n",
    "from langchain.chat_models import ChatOpenAI\n",
    "from langchain.prompts import PromptTemplate\n",
    "from langchain.chains import LLMChain\n",
    "from langchain.chains import SequentialChain\n",
    "from langchain.callbacks import get_openai_callback\n",
    "import pandas as pd\n",
    "import traceback\n",
    "import pypdf\n"
   ]
  },
  {
   "cell_type": "code",
   "execution_count": 164,
   "id": "77ce986a",
   "metadata": {},
   "outputs": [],
   "source": [
    "RESPONSE_JSON = {\n",
    "    \"1\": {\n",
    "        \"mcq\": \"multiple choice question\",\n",
    "        \"options\": {\n",
    "            \"a\": \"choice here\",\n",
    "            \"b\": \"choice here\",\n",
    "            \"c\": \"choice here\",\n",
    "            \"d\": \"choice here\"\n",
    "        },\n",
    "        \"correct\": \"correct answer\"\n",
    "    },\n",
    "    \"2\": {\n",
    "        \"mcq\": \"multiple choice question\",\n",
    "        \"options\": {\n",
    "            \"a\": \"choice here\",\n",
    "            \"b\": \"choice here\",\n",
    "            \"c\": \"choice here\",\n",
    "            \"d\": \"choice here\"\n",
    "        },\n",
    "        \"correct\": \"correct answer\"\n",
    "    },\n",
    "    \"3\": {\n",
    "        \"mcq\": \"multiple choice question\",\n",
    "        \"options\": {\n",
    "            \"a\": \"choice here\",\n",
    "            \"b\": \"choice here\",\n",
    "            \"c\": \"choice here\",\n",
    "            \"d\": \"choice here\"\n",
    "        },\n",
    "        \"correct\": \"correct answer\"\n",
    "    }\n",
    "}"
   ]
  },
  {
   "cell_type": "code",
   "execution_count": 165,
   "id": "157f9779",
   "metadata": {},
   "outputs": [],
   "source": [
    "TEMPLATE = \"\"\"\n",
    "Text:{text}\n",
    "You are an expert MCQ maker. Given the above text, it is your job to \\\n",
    "create a quiz of {number} multiple choice questions for {subject} students in {tone} tone. \n",
    "Make sure the questions are not repeated and check all the questions to be conforming the text as well.\n",
    "Make sure to format your response like RESPONSE_JSON below and use it as a guide. \\\n",
    "Ensure to make {number} MCQs\n",
    "### RESPONSE_JSON\n",
    "{response_json}\n",
    "\"\"\""
   ]
  },
  {
   "cell_type": "code",
   "execution_count": 166,
   "id": "f4247f7f",
   "metadata": {},
   "outputs": [],
   "source": [
    "quiz_generation_prompt = PromptTemplate(\n",
    "    input_variables=[\"text\", \"number\", \"subject\", \"response_json\"],\n",
    "    template=TEMPLATE)"
   ]
  },
  {
   "cell_type": "code",
   "execution_count": 167,
   "id": "90668eac",
   "metadata": {},
   "outputs": [],
   "source": [
    "quiz_chain= LLMChain(llm=llm, prompt=quiz_generation_prompt, output_key=\"quiz\", verbose=True)"
   ]
  },
  {
   "cell_type": "code",
   "execution_count": 168,
   "id": "0a349ab1",
   "metadata": {},
   "outputs": [],
   "source": [
    "TEMPLATE2 = \"\"\"\n",
    "You are an expert english grammarian and writer. Given a Multiple Choice Quiz for {subject} students.\\\n",
    "You need to evaluate the complexity of the question and give a complete analysis of the quiz. Only use at max 50 words for analysis\\\n",
    "If the quiz is not as per with the cognitive and analytical abilities of the students,\\\n",
    "update the quiz questions which needs to be changed and change the tone such that it perfectly fits the student\\\n",
    "QUIZ_MCQs:\n",
    "{quiz}\n",
    "\n",
    "Check from an expert English writer of the above quiz:\n",
    "\"\"\""
   ]
  },
  {
   "cell_type": "code",
   "execution_count": 169,
   "id": "d3e5499e",
   "metadata": {},
   "outputs": [],
   "source": [
    "quiz_evaluation_prompt = PromptTemplate(\n",
    "    input_variables=[\"subject\", \"quiz\"],\n",
    "    template=TEMPLATE)"
   ]
  },
  {
   "cell_type": "code",
   "execution_count": 170,
   "id": "a3e307b8",
   "metadata": {},
   "outputs": [],
   "source": [
    "review_chain = LLMChain(llm=llm, prompt=quiz_evaluation_prompt, output_key=\"review\", verbose=True)"
   ]
  },
  {
   "cell_type": "code",
   "execution_count": 171,
   "id": "086b33b1",
   "metadata": {},
   "outputs": [],
   "source": [
    "generate_evaluation_chain=SequentialChain(chains=[quiz_chain, review_chain],\n",
    "                                          input_variables=[\"text\", \"number\", \"subject\", \"tone\", \"response_json\"],\n",
    "                                          output_variables=[\"quiz\", \"review\"],\n",
    "                                          verbose=True)"
   ]
  },
  {
   "cell_type": "code",
   "execution_count": 172,
   "id": "f2eea145",
   "metadata": {},
   "outputs": [],
   "source": [
    "file_path=r'C:\\Users\\HP\\mcqgen\\experiment\\data.txt'"
   ]
  },
  {
   "cell_type": "code",
   "execution_count": 173,
   "id": "3c57642c",
   "metadata": {},
   "outputs": [],
   "source": [
    "with open(file_path, 'r') as file:\n",
    "    TEXT = file.read()"
   ]
  },
  {
   "cell_type": "code",
   "execution_count": 174,
   "id": "ab1f1502",
   "metadata": {},
   "outputs": [
    {
     "name": "stdout",
     "output_type": "stream",
     "text": [
      "Machine learning (ML) is a field of study in artificial intelligence concerned with the development and study of statistical algorithms that can learn from data and generalise to unseen data, and thus perform tasks without explicit instructions.[1] Within a subdiscipline in machine learning, advances in the field of deep learning have allowed neural networks, a class of statistical algorithms, to surpass many previous machine learning approaches in performance.[2]\n",
      "\n",
      "ML finds application in many fields, including natural language processing, computer vision, speech recognition, email filtering, agriculture, and medicine. The application of ML to business problems is known as predictive analytics.\n",
      "\n",
      "Statistics and mathematical optimisation (mathematical programming) methods comprise the foundations of machine learning. Data mining is a related field of study, focusing on exploratory data analysis (EDA) via unsupervised learning.[4][5]\n",
      "\n",
      "From a theoretical viewpoint, probably approximately correct learning provides a framework for describing machine learning.\n"
     ]
    }
   ],
   "source": [
    "print(TEXT)"
   ]
  },
  {
   "cell_type": "code",
   "execution_count": 175,
   "id": "730e0dc9",
   "metadata": {},
   "outputs": [
    {
     "data": {
      "text/plain": [
       "'{\"1\": {\"mcq\": \"multiple choice question\", \"options\": {\"a\": \"choice here\", \"b\": \"choice here\", \"c\": \"choice here\", \"d\": \"choice here\"}, \"correct\": \"correct answer\"}, \"2\": {\"mcq\": \"multiple choice question\", \"options\": {\"a\": \"choice here\", \"b\": \"choice here\", \"c\": \"choice here\", \"d\": \"choice here\"}, \"correct\": \"correct answer\"}, \"3\": {\"mcq\": \"multiple choice question\", \"options\": {\"a\": \"choice here\", \"b\": \"choice here\", \"c\": \"choice here\", \"d\": \"choice here\"}, \"correct\": \"correct answer\"}}'"
      ]
     },
     "execution_count": 175,
     "metadata": {},
     "output_type": "execute_result"
    }
   ],
   "source": [
    "#serialize the pythin dict to json string\n",
    "json.dumps(RESPONSE_JSON)"
   ]
  },
  {
   "cell_type": "code",
   "execution_count": 176,
   "id": "5e2a93d7",
   "metadata": {},
   "outputs": [],
   "source": [
    "NUMBER= 5\n",
    "SUBJECT=\"machine learning\"\n",
    "TONE=\"simple and easy to understand\""
   ]
  },
  {
   "cell_type": "code",
   "execution_count": 178,
   "id": "645db478",
   "metadata": {},
   "outputs": [
    {
     "name": "stdout",
     "output_type": "stream",
     "text": [
      "\n",
      "\n",
      "\u001b[1m> Entering new SequentialChain chain...\u001b[0m\n",
      "\n",
      "\n",
      "\u001b[1m> Entering new LLMChain chain...\u001b[0m\n",
      "Prompt after formatting:\n",
      "\u001b[32;1m\u001b[1;3m\n",
      "Text:Machine learning (ML) is a field of study in artificial intelligence concerned with the development and study of statistical algorithms that can learn from data and generalise to unseen data, and thus perform tasks without explicit instructions.[1] Within a subdiscipline in machine learning, advances in the field of deep learning have allowed neural networks, a class of statistical algorithms, to surpass many previous machine learning approaches in performance.[2]\n",
      "\n",
      "ML finds application in many fields, including natural language processing, computer vision, speech recognition, email filtering, agriculture, and medicine. The application of ML to business problems is known as predictive analytics.\n",
      "\n",
      "Statistics and mathematical optimisation (mathematical programming) methods comprise the foundations of machine learning. Data mining is a related field of study, focusing on exploratory data analysis (EDA) via unsupervised learning.[4][5]\n",
      "\n",
      "From a theoretical viewpoint, probably approximately correct learning provides a framework for describing machine learning.\n",
      "You are an expert MCQ maker. Given the above text, it is your job to create a quiz of 5 multiple choice questions for machine learning students in simple and easy to understand tone. \n",
      "Make sure the questions are not repeated and check all the questions to be conforming the text as well.\n",
      "Make sure to format your response like RESPONSE_JSON below and use it as a guide. Ensure to make 5 MCQs\n",
      "### RESPONSE_JSON\n",
      "{\"1\": {\"mcq\": \"multiple choice question\", \"options\": {\"a\": \"choice here\", \"b\": \"choice here\", \"c\": \"choice here\", \"d\": \"choice here\"}, \"correct\": \"correct answer\"}, \"2\": {\"mcq\": \"multiple choice question\", \"options\": {\"a\": \"choice here\", \"b\": \"choice here\", \"c\": \"choice here\", \"d\": \"choice here\"}, \"correct\": \"correct answer\"}, \"3\": {\"mcq\": \"multiple choice question\", \"options\": {\"a\": \"choice here\", \"b\": \"choice here\", \"c\": \"choice here\", \"d\": \"choice here\"}, \"correct\": \"correct answer\"}}\n",
      "\u001b[0m\n",
      "\n",
      "\u001b[1m> Finished chain.\u001b[0m\n",
      "\n",
      "\n",
      "\u001b[1m> Entering new LLMChain chain...\u001b[0m\n",
      "Prompt after formatting:\n",
      "\u001b[32;1m\u001b[1;3m\n",
      "Text:Machine learning (ML) is a field of study in artificial intelligence concerned with the development and study of statistical algorithms that can learn from data and generalise to unseen data, and thus perform tasks without explicit instructions.[1] Within a subdiscipline in machine learning, advances in the field of deep learning have allowed neural networks, a class of statistical algorithms, to surpass many previous machine learning approaches in performance.[2]\n",
      "\n",
      "ML finds application in many fields, including natural language processing, computer vision, speech recognition, email filtering, agriculture, and medicine. The application of ML to business problems is known as predictive analytics.\n",
      "\n",
      "Statistics and mathematical optimisation (mathematical programming) methods comprise the foundations of machine learning. Data mining is a related field of study, focusing on exploratory data analysis (EDA) via unsupervised learning.[4][5]\n",
      "\n",
      "From a theoretical viewpoint, probably approximately correct learning provides a framework for describing machine learning.\n",
      "You are an expert MCQ maker. Given the above text, it is your job to create a quiz of 5 multiple choice questions for machine learning students in simple and easy to understand tone. \n",
      "Make sure the questions are not repeated and check all the questions to be conforming the text as well.\n",
      "Make sure to format your response like RESPONSE_JSON below and use it as a guide. Ensure to make 5 MCQs\n",
      "### RESPONSE_JSON\n",
      "{\"1\": {\"mcq\": \"multiple choice question\", \"options\": {\"a\": \"choice here\", \"b\": \"choice here\", \"c\": \"choice here\", \"d\": \"choice here\"}, \"correct\": \"correct answer\"}, \"2\": {\"mcq\": \"multiple choice question\", \"options\": {\"a\": \"choice here\", \"b\": \"choice here\", \"c\": \"choice here\", \"d\": \"choice here\"}, \"correct\": \"correct answer\"}, \"3\": {\"mcq\": \"multiple choice question\", \"options\": {\"a\": \"choice here\", \"b\": \"choice here\", \"c\": \"choice here\", \"d\": \"choice here\"}, \"correct\": \"correct answer\"}}\n",
      "\u001b[0m\n",
      "\n",
      "\u001b[1m> Finished chain.\u001b[0m\n",
      "\n",
      "\u001b[1m> Finished chain.\u001b[0m\n"
     ]
    }
   ],
   "source": [
    "# How to setup Token Usage Tracking in LangChain\n",
    "# https://python.langchain.com/docs/modules/model_io/llms/token_usage_tracking\n",
    "with get_openai_callback() as cb:\n",
    "    response = generate_evaluation_chain({\n",
    "        \"text\": TEXT,\n",
    "        \"number\": NUMBER,\n",
    "        \"subject\": SUBJECT,\n",
    "        \"tone\": TONE,\n",
    "        \"response_json\": json.dumps(RESPONSE_JSON)\n",
    "    })"
   ]
  },
  {
   "cell_type": "code",
   "execution_count": 179,
   "id": "5cee9aec",
   "metadata": {},
   "outputs": [
    {
     "name": "stdout",
     "output_type": "stream",
     "text": [
      "Total Tokens: 5509\n",
      "Prompt Tokens: 868\n",
      "Completion Tokens: 4641\n",
      "Total Cost (USD): $0.0\n"
     ]
    }
   ],
   "source": [
    "print(f\"Total Tokens: {cb.total_tokens}\")\n",
    "print(f\"Prompt Tokens: {cb.prompt_tokens}\")\n",
    "print(f\"Completion Tokens: {cb.completion_tokens}\")\n",
    "print(f\"Total Cost (USD): ${cb.total_cost}\")\n"
   ]
  },
  {
   "cell_type": "code",
   "execution_count": 181,
   "id": "95fe4cfb",
   "metadata": {},
   "outputs": [
    {
     "data": {
      "text/plain": [
       "{'text': 'Machine learning (ML) is a field of study in artificial intelligence concerned with the development and study of statistical algorithms that can learn from data and generalise to unseen data, and thus perform tasks without explicit instructions.[1] Within a subdiscipline in machine learning, advances in the field of deep learning have allowed neural networks, a class of statistical algorithms, to surpass many previous machine learning approaches in performance.[2]\\n\\nML finds application in many fields, including natural language processing, computer vision, speech recognition, email filtering, agriculture, and medicine. The application of ML to business problems is known as predictive analytics.\\n\\nStatistics and mathematical optimisation (mathematical programming) methods comprise the foundations of machine learning. Data mining is a related field of study, focusing on exploratory data analysis (EDA) via unsupervised learning.[4][5]\\n\\nFrom a theoretical viewpoint, probably approximately correct learning provides a framework for describing machine learning.',\n",
       " 'number': 5,\n",
       " 'subject': 'machine learning',\n",
       " 'tone': 'simple and easy to understand',\n",
       " 'response_json': '{\"1\": {\"mcq\": \"multiple choice question\", \"options\": {\"a\": \"choice here\", \"b\": \"choice here\", \"c\": \"choice here\", \"d\": \"choice here\"}, \"correct\": \"correct answer\"}, \"2\": {\"mcq\": \"multiple choice question\", \"options\": {\"a\": \"choice here\", \"b\": \"choice here\", \"c\": \"choice here\", \"d\": \"choice here\"}, \"correct\": \"correct answer\"}, \"3\": {\"mcq\": \"multiple choice question\", \"options\": {\"a\": \"choice here\", \"b\": \"choice here\", \"c\": \"choice here\", \"d\": \"choice here\"}, \"correct\": \"correct answer\"}}',\n",
       " 'quiz': '{\"1\": {\"mcq\": \"What is machine learning (ML) mainly concerned with?\", \"options\": {\"a\": \"Developing statistical algorithms that learn from data and generalise to unseen data\", \"b\": \"Writing explicit instructions for every possible task\", \"c\": \"Creating only rule-based expert systems\", \"d\": \"Simulating human emotions and consciousness\"}, \"correct\": \"Developing statistical algorithms that learn from data and generalise to unseen data\"}, \"2\": {\"mcq\": \"Advances in which subfield have enabled neural networks to surpass many previous ML approaches in performance?\", \"options\": {\"a\": \"Deep learning\", \"b\": \"Linear regression\", \"c\": \"Symbolic AI\", \"d\": \"Database indexing\"}, \"correct\": \"Deep learning\"}, \"3\": {\"mcq\": \"What is the application of ML to business problems called?\", \"options\": {\"a\": \"Predictive analytics\", \"b\": \"Exploratory data analysis\", \"c\": \"Operations research\", \"d\": \"Data warehousing\"}, \"correct\": \"Predictive analytics\"}, \"4\": {\"mcq\": \"Which areas form the foundations of machine learning?\", \"options\": {\"a\": \"Statistics and mathematical optimisation (mathematical programming)\", \"b\": \"Biology and chemistry\", \"c\": \"Art and literature\", \"d\": \"Network engineering and cybersecurity\"}, \"correct\": \"Statistics and mathematical optimisation (mathematical programming)\"}, \"5\": {\"mcq\": \"From a theoretical viewpoint, which framework is used to describe machine learning?\", \"options\": {\"a\": \"Probably approximately correct (PAC) learning\", \"b\": \"Turing completeness\", \"c\": \"Game theory\", \"d\": \"Thermodynamics\"}, \"correct\": \"Probably approximately correct (PAC) learning\"}}',\n",
       " 'review': '{\"1\": {\"mcq\": \"What is machine learning mainly about, according to the text?\", \"options\": {\"a\": \"Developing statistical algorithms that learn from data and generalise to unseen data\", \"b\": \"Writing explicit instructions for every possible case\", \"c\": \"Building hardware that runs faster than traditional computers\", \"d\": \"Manually labelling all outputs for each new task\"}, \"correct\": \"Developing statistical algorithms that learn from data and generalise to unseen data\"}, \"2\": {\"mcq\": \"What have advances in deep learning enabled neural networks to do?\", \"options\": {\"a\": \"Use no data at all to make predictions\", \"b\": \"Surpass many previous machine learning approaches in performance\", \"c\": \"Replace statistics and optimization entirely\", \"d\": \"Make explicit instructions necessary for every task\"}, \"correct\": \"Surpass many previous machine learning approaches in performance\"}, \"3\": {\"mcq\": \"The application of machine learning to business problems is called what?\", \"options\": {\"a\": \"Predictive analytics\", \"b\": \"Reinforcement learning\", \"c\": \"Prescriptive analytics\", \"d\": \"Descriptive statistics\"}, \"correct\": \"Predictive analytics\"}, \"4\": {\"mcq\": \"In the text, data mining is described as focusing on what?\", \"options\": {\"a\": \"Exploratory data analysis via unsupervised learning\", \"b\": \"Designing new computer hardware for AI\", \"c\": \"Proving theorems in graph theory\", \"d\": \"Training only supervised models on labeled data\"}, \"correct\": \"Exploratory data analysis via unsupervised learning\"}, \"5\": {\"mcq\": \"From a theoretical viewpoint, which framework is mentioned for describing machine learning?\", \"options\": {\"a\": \"No free lunch theorem\", \"b\": \"Probably approximately correct learning\", \"c\": \"Shannon\\'s channel coding theorem\", \"d\": \"Game theory equilibrium\"}, \"correct\": \"Probably approximately correct learning\"}}'}"
      ]
     },
     "execution_count": 181,
     "metadata": {},
     "output_type": "execute_result"
    }
   ],
   "source": [
    "response"
   ]
  },
  {
   "cell_type": "code",
   "execution_count": 182,
   "id": "32bf549c",
   "metadata": {},
   "outputs": [],
   "source": [
    "quiz=response.get(\"quiz\")"
   ]
  },
  {
   "cell_type": "code",
   "execution_count": 184,
   "id": "f11f9603",
   "metadata": {},
   "outputs": [],
   "source": [
    "quiz= json.loads(quiz)"
   ]
  },
  {
   "cell_type": "code",
   "execution_count": 185,
   "id": "e490d8e1",
   "metadata": {},
   "outputs": [],
   "source": [
    "quiz_table_data = []\n",
    "\n",
    "for key, value in quiz.items():\n",
    "    mcq = value[\"mcq\"]\n",
    "    options = \" | \".join(\n",
    "        [\n",
    "            f\"{option}: {option_value}\"\n",
    "            for option, option_value in value[\"options\"].items()\n",
    "        ]\n",
    "    )\n",
    "    correct = value[\"correct\"]\n",
    "    quiz_table_data.append({\"MCQ\": mcq, \"Choices\": options, \"Correct\": correct})"
   ]
  },
  {
   "cell_type": "code",
   "execution_count": 186,
   "id": "704dd662",
   "metadata": {},
   "outputs": [
    {
     "data": {
      "text/plain": [
       "[{'MCQ': 'What is machine learning (ML) mainly concerned with?',\n",
       "  'Choices': 'a: Developing statistical algorithms that learn from data and generalise to unseen data | b: Writing explicit instructions for every possible task | c: Creating only rule-based expert systems | d: Simulating human emotions and consciousness',\n",
       "  'Correct': 'Developing statistical algorithms that learn from data and generalise to unseen data'},\n",
       " {'MCQ': 'Advances in which subfield have enabled neural networks to surpass many previous ML approaches in performance?',\n",
       "  'Choices': 'a: Deep learning | b: Linear regression | c: Symbolic AI | d: Database indexing',\n",
       "  'Correct': 'Deep learning'},\n",
       " {'MCQ': 'What is the application of ML to business problems called?',\n",
       "  'Choices': 'a: Predictive analytics | b: Exploratory data analysis | c: Operations research | d: Data warehousing',\n",
       "  'Correct': 'Predictive analytics'},\n",
       " {'MCQ': 'Which areas form the foundations of machine learning?',\n",
       "  'Choices': 'a: Statistics and mathematical optimisation (mathematical programming) | b: Biology and chemistry | c: Art and literature | d: Network engineering and cybersecurity',\n",
       "  'Correct': 'Statistics and mathematical optimisation (mathematical programming)'},\n",
       " {'MCQ': 'From a theoretical viewpoint, which framework is used to describe machine learning?',\n",
       "  'Choices': 'a: Probably approximately correct (PAC) learning | b: Turing completeness | c: Game theory | d: Thermodynamics',\n",
       "  'Correct': 'Probably approximately correct (PAC) learning'}]"
      ]
     },
     "execution_count": 186,
     "metadata": {},
     "output_type": "execute_result"
    }
   ],
   "source": [
    "quiz_table_data"
   ]
  },
  {
   "cell_type": "code",
   "execution_count": 188,
   "id": "6ac345a0",
   "metadata": {},
   "outputs": [],
   "source": [
    "quiz= pd.DataFrame(quiz_table_data)"
   ]
  },
  {
   "cell_type": "code",
   "execution_count": 189,
   "id": "2a69fa67",
   "metadata": {},
   "outputs": [],
   "source": [
    "quiz.to_csv('mcq_output.csv', index=False)"
   ]
  }
 ],
 "metadata": {
  "kernelspec": {
   "display_name": "testingopenai",
   "language": "python",
   "name": "python3"
  },
  "language_info": {
   "codemirror_mode": {
    "name": "ipython",
    "version": 3
   },
   "file_extension": ".py",
   "mimetype": "text/x-python",
   "name": "python",
   "nbconvert_exporter": "python",
   "pygments_lexer": "ipython3",
   "version": "3.13.5"
  }
 },
 "nbformat": 4,
 "nbformat_minor": 5
}
